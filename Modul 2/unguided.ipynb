{
  "cells": [
    {
      "cell_type": "markdown",
      "metadata": {
        "id": "LKuzXF5NXFDS"
      },
      "source": [
        "\n",
        "# **1. Load Data**\n",
        "\n"
      ]
    },
    {
      "cell_type": "code",
      "execution_count": 1,
      "metadata": {
        "colab": {
          "base_uri": "https://localhost:8080/"
        },
        "id": "5ND7PyJxxmv8",
        "outputId": "4387b78f-d80c-402f-b420-cb071b140e4f"
      },
      "outputs": [
        {
          "name": "stdout",
          "output_type": "stream",
          "text": [
            "Requirement already satisfied: pandas in c:\\users\\asus\\appdata\\local\\packages\\pythonsoftwarefoundation.python.3.11_qbz5n2kfra8p0\\localcache\\local-packages\\python311\\site-packages (2.2.3)\n",
            "Requirement already satisfied: numpy>=1.23.2 in c:\\users\\asus\\appdata\\local\\packages\\pythonsoftwarefoundation.python.3.11_qbz5n2kfra8p0\\localcache\\local-packages\\python311\\site-packages (from pandas) (2.1.2)\n",
            "Requirement already satisfied: python-dateutil>=2.8.2 in c:\\users\\asus\\appdata\\local\\packages\\pythonsoftwarefoundation.python.3.11_qbz5n2kfra8p0\\localcache\\local-packages\\python311\\site-packages (from pandas) (2.9.0.post0)\n",
            "Requirement already satisfied: pytz>=2020.1 in c:\\users\\asus\\appdata\\local\\packages\\pythonsoftwarefoundation.python.3.11_qbz5n2kfra8p0\\localcache\\local-packages\\python311\\site-packages (from pandas) (2024.2)\n",
            "Requirement already satisfied: tzdata>=2022.7 in c:\\users\\asus\\appdata\\local\\packages\\pythonsoftwarefoundation.python.3.11_qbz5n2kfra8p0\\localcache\\local-packages\\python311\\site-packages (from pandas) (2024.2)\n",
            "Requirement already satisfied: six>=1.5 in c:\\users\\asus\\appdata\\local\\packages\\pythonsoftwarefoundation.python.3.11_qbz5n2kfra8p0\\localcache\\local-packages\\python311\\site-packages (from python-dateutil>=2.8.2->pandas) (1.16.0)\n"
          ]
        },
        {
          "name": "stderr",
          "output_type": "stream",
          "text": [
            "\n",
            "[notice] A new release of pip is available: 24.0 -> 24.2\n",
            "[notice] To update, run: C:\\Users\\ASUS\\AppData\\Local\\Microsoft\\WindowsApps\\PythonSoftwareFoundation.Python.3.11_qbz5n2kfra8p0\\python.exe -m pip install --upgrade pip\n"
          ]
        },
        {
          "name": "stdout",
          "output_type": "stream",
          "text": [
            "Requirement already satisfied: numpy in c:\\users\\asus\\appdata\\local\\packages\\pythonsoftwarefoundation.python.3.11_qbz5n2kfra8p0\\localcache\\local-packages\\python311\\site-packages (2.1.2)\n"
          ]
        },
        {
          "name": "stderr",
          "output_type": "stream",
          "text": [
            "\n",
            "[notice] A new release of pip is available: 24.0 -> 24.2\n",
            "[notice] To update, run: C:\\Users\\ASUS\\AppData\\Local\\Microsoft\\WindowsApps\\PythonSoftwareFoundation.Python.3.11_qbz5n2kfra8p0\\python.exe -m pip install --upgrade pip\n"
          ]
        }
      ],
      "source": [
        "!pip install pandas\n",
        "!pip install numpy"
      ]
    },
    {
      "cell_type": "code",
      "execution_count": 2,
      "metadata": {
        "id": "tLnAF88jyJFn"
      },
      "outputs": [],
      "source": [
        "import pandas as pd\n",
        "import numpy as np"
      ]
    },
    {
      "cell_type": "code",
      "execution_count": 6,
      "metadata": {
        "id": "praG5o9SyUbI"
      },
      "outputs": [],
      "source": [
        "film = pd.read_csv(\"C:/Users/ASUS/Documents/SEMESTER 3/Modul 2/Movie_classification.csv\")"
      ]
    },
    {
      "cell_type": "code",
      "execution_count": 7,
      "metadata": {
        "colab": {
          "base_uri": "https://localhost:8080/",
          "height": 243
        },
        "id": "mzDDHB2NoYF_",
        "outputId": "a17c8b51-fc1b-44bd-92c6-d5675df2d313"
      },
      "outputs": [
        {
          "data": {
            "text/html": [
              "<div>\n",
              "<style scoped>\n",
              "    .dataframe tbody tr th:only-of-type {\n",
              "        vertical-align: middle;\n",
              "    }\n",
              "\n",
              "    .dataframe tbody tr th {\n",
              "        vertical-align: top;\n",
              "    }\n",
              "\n",
              "    .dataframe thead th {\n",
              "        text-align: right;\n",
              "    }\n",
              "</style>\n",
              "<table border=\"1\" class=\"dataframe\">\n",
              "  <thead>\n",
              "    <tr style=\"text-align: right;\">\n",
              "      <th></th>\n",
              "      <th>Marketing expense</th>\n",
              "      <th>Production expense</th>\n",
              "      <th>Multiplex coverage</th>\n",
              "      <th>Budget</th>\n",
              "      <th>Movie_length</th>\n",
              "      <th>Lead_ Actor_Rating</th>\n",
              "      <th>Lead_Actress_rating</th>\n",
              "      <th>Director_rating</th>\n",
              "      <th>Producer_rating</th>\n",
              "      <th>Critic_rating</th>\n",
              "      <th>Trailer_views</th>\n",
              "      <th>3D_available</th>\n",
              "      <th>Time_taken</th>\n",
              "      <th>Twitter_hastags</th>\n",
              "      <th>Genre</th>\n",
              "      <th>Avg_age_actors</th>\n",
              "      <th>Num_multiplex</th>\n",
              "      <th>Collection</th>\n",
              "      <th>Start_Tech_Oscar</th>\n",
              "    </tr>\n",
              "  </thead>\n",
              "  <tbody>\n",
              "    <tr>\n",
              "      <th>0</th>\n",
              "      <td>20.1264</td>\n",
              "      <td>59.62</td>\n",
              "      <td>0.462</td>\n",
              "      <td>36524.125</td>\n",
              "      <td>138.7</td>\n",
              "      <td>7.825</td>\n",
              "      <td>8.095</td>\n",
              "      <td>7.910</td>\n",
              "      <td>7.995</td>\n",
              "      <td>7.94</td>\n",
              "      <td>527367</td>\n",
              "      <td>YES</td>\n",
              "      <td>109.60</td>\n",
              "      <td>223.840</td>\n",
              "      <td>Thriller</td>\n",
              "      <td>23</td>\n",
              "      <td>494</td>\n",
              "      <td>48000</td>\n",
              "      <td>1</td>\n",
              "    </tr>\n",
              "    <tr>\n",
              "      <th>1</th>\n",
              "      <td>20.5462</td>\n",
              "      <td>69.14</td>\n",
              "      <td>0.531</td>\n",
              "      <td>35668.655</td>\n",
              "      <td>152.4</td>\n",
              "      <td>7.505</td>\n",
              "      <td>7.650</td>\n",
              "      <td>7.440</td>\n",
              "      <td>7.470</td>\n",
              "      <td>7.44</td>\n",
              "      <td>494055</td>\n",
              "      <td>NO</td>\n",
              "      <td>146.64</td>\n",
              "      <td>243.456</td>\n",
              "      <td>Drama</td>\n",
              "      <td>42</td>\n",
              "      <td>462</td>\n",
              "      <td>43200</td>\n",
              "      <td>0</td>\n",
              "    </tr>\n",
              "    <tr>\n",
              "      <th>2</th>\n",
              "      <td>20.5458</td>\n",
              "      <td>69.14</td>\n",
              "      <td>0.531</td>\n",
              "      <td>39912.675</td>\n",
              "      <td>134.6</td>\n",
              "      <td>7.485</td>\n",
              "      <td>7.570</td>\n",
              "      <td>7.495</td>\n",
              "      <td>7.515</td>\n",
              "      <td>7.44</td>\n",
              "      <td>547051</td>\n",
              "      <td>NO</td>\n",
              "      <td>147.88</td>\n",
              "      <td>2022.400</td>\n",
              "      <td>Comedy</td>\n",
              "      <td>38</td>\n",
              "      <td>458</td>\n",
              "      <td>69400</td>\n",
              "      <td>1</td>\n",
              "    </tr>\n",
              "    <tr>\n",
              "      <th>3</th>\n",
              "      <td>20.6474</td>\n",
              "      <td>59.36</td>\n",
              "      <td>0.542</td>\n",
              "      <td>38873.890</td>\n",
              "      <td>119.3</td>\n",
              "      <td>6.895</td>\n",
              "      <td>7.035</td>\n",
              "      <td>6.920</td>\n",
              "      <td>7.020</td>\n",
              "      <td>8.26</td>\n",
              "      <td>516279</td>\n",
              "      <td>YES</td>\n",
              "      <td>185.36</td>\n",
              "      <td>225.344</td>\n",
              "      <td>Drama</td>\n",
              "      <td>45</td>\n",
              "      <td>472</td>\n",
              "      <td>66800</td>\n",
              "      <td>1</td>\n",
              "    </tr>\n",
              "    <tr>\n",
              "      <th>4</th>\n",
              "      <td>21.3810</td>\n",
              "      <td>59.36</td>\n",
              "      <td>0.542</td>\n",
              "      <td>39701.585</td>\n",
              "      <td>127.7</td>\n",
              "      <td>6.920</td>\n",
              "      <td>7.070</td>\n",
              "      <td>6.815</td>\n",
              "      <td>7.070</td>\n",
              "      <td>8.26</td>\n",
              "      <td>531448</td>\n",
              "      <td>NO</td>\n",
              "      <td>176.48</td>\n",
              "      <td>225.792</td>\n",
              "      <td>Drama</td>\n",
              "      <td>55</td>\n",
              "      <td>395</td>\n",
              "      <td>72400</td>\n",
              "      <td>1</td>\n",
              "    </tr>\n",
              "  </tbody>\n",
              "</table>\n",
              "</div>"
            ],
            "text/plain": [
              "   Marketing expense  Production expense  Multiplex coverage     Budget  \\\n",
              "0            20.1264               59.62               0.462  36524.125   \n",
              "1            20.5462               69.14               0.531  35668.655   \n",
              "2            20.5458               69.14               0.531  39912.675   \n",
              "3            20.6474               59.36               0.542  38873.890   \n",
              "4            21.3810               59.36               0.542  39701.585   \n",
              "\n",
              "   Movie_length  Lead_ Actor_Rating  Lead_Actress_rating  Director_rating  \\\n",
              "0         138.7               7.825                8.095            7.910   \n",
              "1         152.4               7.505                7.650            7.440   \n",
              "2         134.6               7.485                7.570            7.495   \n",
              "3         119.3               6.895                7.035            6.920   \n",
              "4         127.7               6.920                7.070            6.815   \n",
              "\n",
              "   Producer_rating  Critic_rating  Trailer_views 3D_available  Time_taken  \\\n",
              "0            7.995           7.94         527367          YES      109.60   \n",
              "1            7.470           7.44         494055           NO      146.64   \n",
              "2            7.515           7.44         547051           NO      147.88   \n",
              "3            7.020           8.26         516279          YES      185.36   \n",
              "4            7.070           8.26         531448           NO      176.48   \n",
              "\n",
              "   Twitter_hastags     Genre  Avg_age_actors  Num_multiplex  Collection  \\\n",
              "0          223.840  Thriller              23            494       48000   \n",
              "1          243.456     Drama              42            462       43200   \n",
              "2         2022.400    Comedy              38            458       69400   \n",
              "3          225.344     Drama              45            472       66800   \n",
              "4          225.792     Drama              55            395       72400   \n",
              "\n",
              "   Start_Tech_Oscar  \n",
              "0                 1  \n",
              "1                 0  \n",
              "2                 1  \n",
              "3                 1  \n",
              "4                 1  "
            ]
          },
          "execution_count": 7,
          "metadata": {},
          "output_type": "execute_result"
        }
      ],
      "source": [
        "film.head()"
      ]
    },
    {
      "cell_type": "markdown",
      "metadata": {
        "id": "ZvZcEJ9YXTr-"
      },
      "source": [
        "# **2. Cek Duplikat Data**"
      ]
    },
    {
      "cell_type": "code",
      "execution_count": 21,
      "metadata": {
        "colab": {
          "base_uri": "https://localhost:8080/"
        },
        "id": "bpmLpHBkzMVd",
        "outputId": "c11086c8-6572-478c-f580-6149746f18af"
      },
      "outputs": [
        {
          "name": "stdout",
          "output_type": "stream",
          "text": [
            "Jumlah di duplikat: 0\n"
          ]
        }
      ],
      "source": [
        "movieDuplicate = film[film.duplicated()]\n",
        "print(f\"Jumlah di duplikat: {movieDuplicate.shape[0]}\")\n",
        "\n"
      ]
    },
    {
      "cell_type": "markdown",
      "metadata": {
        "id": "EvChKzPcRFfn"
      },
      "source": [
        "Jadi pada data tersebut jumlah duplikat datanya tidak ada atau 0"
      ]
    },
    {
      "cell_type": "markdown",
      "metadata": {
        "id": "oMQAl6zMX6Nd"
      },
      "source": [
        "# **3. Menentukan Null Values Buat Presentase**"
      ]
    },
    {
      "cell_type": "code",
      "execution_count": 19,
      "metadata": {
        "colab": {
          "base_uri": "https://localhost:8080/",
          "height": 679
        },
        "id": "FQVHRgXbYJRs",
        "outputId": "c78d49da-2032-4820-f537-6dca27c1e4df"
      },
      "outputs": [
        {
          "name": "stdout",
          "output_type": "stream",
          "text": [
            "Marketing expense      0.000000\n",
            "Production expense     0.000000\n",
            "Multiplex coverage     0.000000\n",
            "Budget                 0.000000\n",
            "Movie_length           0.000000\n",
            "Lead_ Actor_Rating     0.000000\n",
            "Lead_Actress_rating    0.000000\n",
            "Director_rating        0.000000\n",
            "Producer_rating        0.000000\n",
            "Critic_rating          0.000000\n",
            "Trailer_views          0.000000\n",
            "3D_available           0.000000\n",
            "Time_taken             2.371542\n",
            "Twitter_hastags        0.000000\n",
            "Genre                  0.000000\n",
            "Avg_age_actors         0.000000\n",
            "Num_multiplex          0.000000\n",
            "Collection             0.000000\n",
            "Start_Tech_Oscar       0.000000\n",
            "dtype: float64\n"
          ]
        }
      ],
      "source": [
        "null = film.isnull().sum()\n",
        "null_values = (null / len(film)) * 100\n",
        "print(null_values)"
      ]
    },
    {
      "cell_type": "markdown",
      "metadata": {
        "id": "lv0DlYEJXf3K"
      },
      "source": [
        "# **4. Drop Missing Value Berdasarkan Baris, Kolom, Imputasi dengan Mean, Modus, dan Median**"
      ]
    },
    {
      "cell_type": "code",
      "execution_count": 22,
      "metadata": {
        "id": "xHmkc-sY3LFN"
      },
      "outputs": [],
      "source": [
        "#drop missing value berdasarkan baris\n",
        "film_baris = film.dropna()\n",
        "\n",
        "#Drop missing value berdasarkan kolom\n",
        "film_kolom = film.dropna(axis=1)\n",
        "\n",
        "#Drop missing value berdasarkan imputasi dengan mean \n",
        "film_mean = film.copy()\n",
        "film_mean['Movie_length'] = film_mean['Movie_length'].fillna(film_mean['Movie_length'].mean())\n",
        "\n",
        "#Drop missing value berdasarkan imputasi dengan modus\n",
        "film_modus = film.copy()\n",
        "film_modus['genre'] = film_modus['genre'].fillna(film[col].mode()[0])\n",
        "\n",
        "#Drop missing value berdasarkan imputasi dengan median\n",
        "film_median = film.copy()\n",
        "film_median['Movie_length'] = film_median['Movie_length'].fillna(data_median['Movie_length'].median())\n"
      ]
    },
    {
      "cell_type": "markdown",
      "metadata": {
        "id": "WWoEmJTtlKJF"
      },
      "source": [
        "# **5. Export data ke csv dan excel**"
      ]
    },
    {
      "cell_type": "code",
      "execution_count": 32,
      "metadata": {
        "id": "bhagokYu3DEI"
      },
      "outputs": [],
      "source": [
        "#Export data ke csv\n",
        "data.to_csv('C:/Users/ASUS/Documents/SEMESTER 3/Modul 2/Movie_classification.csv', index=False)\n",
        "\n",
        "#Export data ke excel\n",
        "data.to_excel('C:/Users/ASUS/Documents/SEMESTER 3/Modul 2/Movie_classification.xlsx', index=False)"
      ]
    }
  ],
  "metadata": {
    "colab": {
      "provenance": []
    },
    "kernelspec": {
      "display_name": "Python 3",
      "name": "python3"
    },
    "language_info": {
      "codemirror_mode": {
        "name": "ipython",
        "version": 3
      },
      "file_extension": ".py",
      "mimetype": "text/x-python",
      "name": "python",
      "nbconvert_exporter": "python",
      "pygments_lexer": "ipython3",
      "version": "3.11.9"
    }
  },
  "nbformat": 4,
  "nbformat_minor": 0
}
